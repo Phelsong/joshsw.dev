{
 "cells": [
  {
   "cell_type": "code",
   "execution_count": 13,
   "metadata": {},
   "outputs": [
    {
     "name": "stdout",
     "output_type": "stream",
     "text": [
      "dict_keys(['/home', '/home/nest'])\n",
      "i work\n"
     ]
    }
   ],
   "source": [
    "from functools import lru_cache\n",
    "\n",
    "\n",
    "class DomRouter:\n",
    "    def __init__(self):\n",
    "        self.routes: dict = {}\n",
    "\n",
    "    def add_route(self, func, url: str) -> None:\n",
    "        self.routes[url] = func\n",
    "\n",
    "    def remove_route(self, url: str) -> None:\n",
    "        self.routes.__delitem__(url)\n",
    "\n",
    "    def get_routes(self) -> set[str]:\n",
    "        return self.routes.keys()\n",
    "\n",
    "    def nav(self, url: str) -> None:\n",
    "        self.routes[url]()\n",
    "\n",
    "\n",
    "dom_router = DomRouter()\n",
    "\n",
    "\n",
    "def route(route):\n",
    "    @lru_cache(maxsize=2048)\n",
    "    def wrapper(func):\n",
    "        dom_router.add_route(func, route)\n",
    "\n",
    "    return wrapper\n",
    "\n",
    "\n",
    "@route(\"/home\")\n",
    "def home():\n",
    "    print(\"home\")\n",
    "\n",
    "\n",
    "@route(\"/home/nest\")\n",
    "def page():\n",
    "    print(\"i work\")\n",
    "\n",
    "\n",
    "print(dom_router.get_routes())\n",
    "dom_router.nav(\"/home/nest\")\n",
    "dom_router.remove_route(\"/home\")"
   ]
  },
  {
   "cell_type": "code",
   "execution_count": 6,
   "metadata": {},
   "outputs": [
    {
     "name": "stdout",
     "output_type": "stream",
     "text": [
      "[]\n"
     ]
    }
   ],
   "source": [
    "import os\n",
    "\n",
    "tlist: list = []\n",
    "for x in os.walk(\"/assets/tech-icons\"):\n",
    "    tlist = x[2]\n",
    "print(tlist)"
   ]
  },
  {
   "cell_type": "code",
   "execution_count": null,
   "metadata": {},
   "outputs": [],
   "source": []
  }
 ],
 "metadata": {
  "kernelspec": {
   "display_name": "Python 3",
   "language": "python",
   "name": "python3"
  },
  "language_info": {
   "codemirror_mode": {
    "name": "ipython",
    "version": 3
   },
   "file_extension": ".py",
   "mimetype": "text/x-python",
   "name": "python",
   "nbconvert_exporter": "python",
   "pygments_lexer": "ipython3",
   "version": "3.11.8"
  }
 },
 "nbformat": 4,
 "nbformat_minor": 2
}
